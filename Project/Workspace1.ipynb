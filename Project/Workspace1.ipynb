{
 "cells": [
  {
   "cell_type": "code",
   "execution_count": 1,
   "metadata": {},
   "outputs": [],
   "source": [
    "from abc import ABC, abstractmethod\n",
    "import math\n",
    "import random\n",
    "\n",
    "import pandas as pd\n",
    "import random\n",
    "import sklearn\n",
    "import numpy as np\n",
    "\n",
    "from sklearn.neighbors import KNeighborsClassifier\n",
    "from sklearn.svm import SVC\n",
    "from sklearn.naive_bayes import GaussianNB\n",
    "from sklearn.tree import DecisionTreeClassifier\n",
    "from sklearn.model_selection import train_test_split\n",
    "from sklearn.model_selection import KFold\n",
    "from sklearn.model_selection import cross_val_score\n",
    "from sklearn.pipeline import make_pipeline\n",
    "\n",
    "import shap\n",
    "import array as arr"
   ]
  },
  {
   "cell_type": "code",
   "execution_count": 2,
   "metadata": {},
   "outputs": [],
   "source": [
    "#stat_data = pd.read_pickle(\"No Event.pkl\")\n",
    "stat_data = pd.read_pickle(\"Pickled big stats.pkl\").set_index('Fight')\n",
    "fight_data = pd.read_pickle('pickled fights.pkl')\n",
    "fighter_data = pd.read_pickle('pickled fighter stats.pkl')\n",
    "list_fights = fight_data.index.to_list()"
   ]
  },
  {
   "cell_type": "code",
   "execution_count": 3,
   "metadata": {},
   "outputs": [],
   "source": [
    "class FightFilter(ABC):\n",
    "    \n",
    "    def __init__(self):\n",
    "        self.ref = self.ref_dict()\n",
    "    \n",
    "    @abstractmethod\n",
    "    def get_list(self, date, fighter):\n",
    "        pass\n",
    "    \n",
    "    def for_current(self, fighter1, fighter2):\n",
    "        return self.get_list('99999999999', fighter1), self.get_list('99999999999', fighter2)\n",
    "    \n",
    "    def ref_dict(self):\n",
    "        returned = {}\n",
    "        for fight in list_fights:\n",
    "            date = fight_data.Date[fight]\n",
    "            fights1 = self.get_list(date, fight_data['0'][fight])\n",
    "            fights2 = self.get_list(date, fight_data['1'][fight])\n",
    "            \n",
    "            if len(fights1) > 0 and len(fights2) > 0:\n",
    "                returned[fight] = fights1, fights2\n",
    "        \n",
    "        return returned"
   ]
  },
  {
   "cell_type": "code",
   "execution_count": 4,
   "metadata": {},
   "outputs": [],
   "source": [
    "class BasicFilter(FightFilter):\n",
    "    def get_list(self, date, fighter):\n",
    "        fights = fighter_data.Fights[fighter]\n",
    "        returned = []\n",
    "        for fight in fights:\n",
    "            if fight_data.Date[fight] < date:\n",
    "                returned.append(fight)\n",
    "        return returned"
   ]
  },
  {
   "cell_type": "code",
   "execution_count": 5,
   "metadata": {},
   "outputs": [],
   "source": [
    "class HandleFighterValues(ABC):\n",
    "    def handle(self, f1_stat, f2_stat):\n",
    "        pass"
   ]
  },
  {
   "cell_type": "code",
   "execution_count": 6,
   "metadata": {},
   "outputs": [],
   "source": [
    "class SubtractValues(HandleFighterValues):\n",
    "    def handle(self, f1_stat, f2_stat):\n",
    "        return f1_stat - f2_stat"
   ]
  },
  {
   "cell_type": "code",
   "execution_count": 7,
   "metadata": {},
   "outputs": [],
   "source": [
    "class Stat(ABC):\n",
    "    \n",
    "    @abstractmethod\n",
    "    def get_value(self, fighter, date, relevant_fights):\n",
    "        pass\n",
    "    @abstractmethod\n",
    "    def to_string(self):\n",
    "        pass"
   ]
  },
  {
   "cell_type": "code",
   "execution_count": 8,
   "metadata": {},
   "outputs": [],
   "source": [
    "def change_target(a):\n",
    "    if a==2:\n",
    "        return -1\n",
    "    elif a==1:\n",
    "        return 1\n",
    "    else:\n",
    "        return 0\n",
    "def randomize_result(df):\n",
    "    returned = []\n",
    "    for i in range(0,len(df)):\n",
    "        mul = 1\n",
    "        returned.append([])\n",
    "        if random.randint(0,1) == 1:\n",
    "            mul = -1\n",
    "        for col in df.columns:\n",
    "            returned[i].append(df[col][i] * mul * 100)\n",
    "    return pd.DataFrame(returned, columns = df.columns)"
   ]
  },
  {
   "cell_type": "code",
   "execution_count": 9,
   "metadata": {},
   "outputs": [],
   "source": [
    "class BuildFrame:\n",
    "    \n",
    "    def __init__(self, input_dict):\n",
    "        self.input_dict = input_dict\n",
    "        self.X, self.y = self.build()\n",
    "        \n",
    "    def make_row(self, fighter1, fighter2):\n",
    "        returned = []\n",
    "        for ff in self.input_dict:\n",
    "            fight_ref = ff.ref\n",
    "            fights1, fights2 = ff.for_current(fighter1, fighter2)\n",
    "            \n",
    "            for handler in self.input_dict[ff]:\n",
    "                for stat in self.input_dict[ff][handler]:\n",
    "                    returned.append(handler.handle(stat.get_value(fighter1, 'curr', fights1), \n",
    "                                                   stat.get_value(fighter2, 'curr', fights2)))\n",
    "        return pd.DataFrame([returned], columns=self.X.columns)\n",
    "        \n",
    "    def build(self):\n",
    "        returned = pd.DataFrame()\n",
    "        for ff in self.input_dict:\n",
    "            fight_ref = ff.ref_dict()\n",
    "\n",
    "            for handler in self.input_dict[ff]:\n",
    "                for stat in self.input_dict[ff][handler]:\n",
    "                    col = []           \n",
    "                    for fight in fight_ref.keys():\n",
    "                        fighter1 = fight_data['0'][fight]\n",
    "                        fighter2 = fight_data['1'][fight]\n",
    "                        date = fight_data['Date'][fight]\n",
    "                        fights1, fights2 = fight_ref[fight]\n",
    "                        add_to_col = handler.handle(stat.get_value(fighter1, date, fights1), \n",
    "                                                    stat.get_value(fighter2, date, fights2))\n",
    "                        col.append(add_to_col)\n",
    "                        col.append(-add_to_col)\n",
    "                    returned[stat.to_string()] = col\n",
    "\n",
    "        target = []\n",
    "        for fight in fight_ref.keys():\n",
    "            val = change_target(fight_data['2'][fight])\n",
    "            target.append(val)\n",
    "            target.append(-val)\n",
    "\n",
    "        returned['y'] = target\n",
    "        #randomized = randomize_result(returned)\n",
    "        randomized = returned\n",
    "        \n",
    "        return randomized.loc[:, randomized.columns != 'y'], randomized['y']"
   ]
  },
  {
   "cell_type": "code",
   "execution_count": 10,
   "metadata": {},
   "outputs": [],
   "source": [
    "class BasicStriking(Stat):\n",
    "    \n",
    "    def __init__(self, name, fighter, rnd, num, denom):\n",
    "        self.frame = stat_data[(stat_data.Stat == name) &\n",
    "                               (stat_data.Fighter == fighter) &\n",
    "                               (stat_data.Round == rnd)]\n",
    "        self.name = name\n",
    "        self.fighter = fighter\n",
    "        self.rnd = rnd\n",
    "        self.numerator = num\n",
    "        self.denominator = denom\n",
    "        \n",
    "    def get_value(self, fighter, date, relevant_fights):\n",
    "        sum_n = 0\n",
    "        sum_d = 0\n",
    "        for fight in relevant_fights:\n",
    "            sum_n += self.frame[self.numerator][fight]\n",
    "            sum_d += self.frame[self.denominator][fight]\n",
    "        return sum_n/sum_d\n",
    "    \n",
    "    def to_string(self):\n",
    "        return \"basic_\"+self.name + \"_\"+str(self.fighter)+\"_\" + str(self.rnd)+\"_\"+self.numerator+\"_per_\" + self.denominator"
   ]
  },
  {
   "cell_type": "code",
   "execution_count": 11,
   "metadata": {},
   "outputs": [],
   "source": [
    "class Elo_v1(Stat):\n",
    "    def __init__(self, name, k_val, divby, mult):\n",
    "        self.name = name\n",
    "        self.k_val = k_val\n",
    "        self.divby = divby\n",
    "        self.mult = mult\n",
    "        self.rstart = 0\n",
    "        self.elodict = {}\n",
    "        self.relevants = self.gen_relevant(name)\n",
    "        self.gen_data()\n",
    "        \n",
    "    def get_value(self, fighter, date, relevant_fights):\n",
    "        return self.elodict[fighter][date]\n",
    "        \n",
    "    def to_string(self):\n",
    "        return \"ELO_\" + self.name\n",
    "    \n",
    "    def gen_relevant(self, name):\n",
    "        returned = {}\n",
    "        v2 = stat_data[(stat_data.Stat == name) &\n",
    "                       (stat_data.Round == 0)]\n",
    "        f1_stats = v2[v2.Fighter == 1]\n",
    "        f2_stats = v2[v2.Fighter == 2]\n",
    "        \n",
    "        for fight in fight_data.index:\n",
    "            returned[fight] = {'fighter1': fight_data['0'][fight],\n",
    "                               'fighter2': fight_data['1'][fight],\n",
    "                               'date': fight_data['Date'][fight],\n",
    "                               'landed1': f1_stats['Landed'][fight],\n",
    "                               'landed2': f2_stats['Landed'][fight]}\n",
    "        return returned\n",
    "    \n",
    "    def get_elo(self, fighter):\n",
    "        return self.elodict[fighter]['curr']\n",
    "    \n",
    "    def add_fighter(self, fighter, elo):\n",
    "        self.elodict[fighter] = {'curr': elo}\n",
    "        \n",
    "    def prob(self, r1, r2, divby):\n",
    "        a = 1.0 / (1 + 1.0 * math.pow(10, 1.0 * (r1 - r2) / divby))\n",
    "        b = 1-a\n",
    "        return b,a\n",
    "    \n",
    "    def update_dict(self, entry):\n",
    "        curr1 = self.get_elo(entry['fighter1'])\n",
    "        curr2 = self.get_elo(entry['fighter2'])\n",
    "        p1, p2 = self.prob(curr1, curr2, self.divby)\n",
    "        winner1 = entry['landed1'] > entry['landed2']\n",
    "        diff = abs(entry['landed1'] - entry['landed2'])\n",
    "        Ra = None\n",
    "        Rb = None\n",
    "        \n",
    "        if winner1:\n",
    "            Ra = curr1 + math.pow(diff, self.mult) * self.k_val * (1 - p1) \n",
    "            Rb = curr2 + math.pow(diff, self.mult) * self.k_val * (0 - p2) \n",
    "        \n",
    "        else: \n",
    "            Ra = curr1 + math.pow(diff, self.mult) * self.k_val * (0 - p1) \n",
    "            Rb = curr2 + math.pow(diff, self.mult) * self.k_val * (1 - p2)\n",
    "            \n",
    "        self.elodict[entry['fighter1']].update({entry['date']: curr1, 'curr': Ra})\n",
    "        self.elodict[entry['fighter2']].update({entry['date']: curr2, 'curr': Rb})\n",
    "        \n",
    "    def gen_data(self):\n",
    "        for fight in fight_data.index:\n",
    "            entry = self.relevants[fight]\n",
    "            if entry['fighter1'] in self.elodict and (not entry['fighter2'] in self.elodict):\n",
    "                self.add_fighter(entry['fighter2'], self.get_elo(entry['fighter1']))\n",
    "\n",
    "            if entry['fighter2'] in self.elodict and (not entry['fighter1'] in self.elodict):\n",
    "                self.add_fighter(entry['fighter1'], self.get_elo(entry['fighter2']))\n",
    "\n",
    "            elif (not entry['fighter1'] in self.elodict) and (not entry['fighter2'] in self.elodict):\n",
    "                self.add_fighter(entry['fighter1'], self.rstart)\n",
    "                self.add_fighter(entry['fighter2'], self.rstart)\n",
    "                \n",
    "            self.update_dict(entry)\n",
    "            \n",
    "    def display_sorted(self):\n",
    "        s = {k: v['curr'] for k,v in sorted(self.elodict.items(), key=lambda a: a[1]['curr'], reverse=True)}\n",
    "        return s\n",
    "    \n",
    "    def percent_wins(self):\n",
    "        correct = 0\n",
    "        incorrect = 0\n",
    "        for fight in fight_data.index:\n",
    "            date = fight_data.Date[fight]\n",
    "            r1 = self.elodict[fight_data['0'][fight]][date]\n",
    "            r2 = self.elodict[fight_data['1'][fight]][date]\n",
    "            result = fight_data['2'][fight]\n",
    "            if (r1 > r2 and result == 1) or (r1 < r2 and result == 2):\n",
    "                correct += 1\n",
    "            else:\n",
    "                incorrect += 1\n",
    "        return correct / (correct + incorrect)\n",
    "            "
   ]
  },
  {
   "cell_type": "code",
   "execution_count": 12,
   "metadata": {},
   "outputs": [],
   "source": [
    "class WinLossElo(Elo_v1):\n",
    "    \n",
    "    def gen_relevant(self, name):\n",
    "        returned = {}\n",
    "        \n",
    "        for fight in fight_data.index:\n",
    "            returned[fight] = {'fighter1': fight_data['0'][fight],\n",
    "                               'fighter2': fight_data['1'][fight],\n",
    "                               'date': fight_data['Date'][fight],\n",
    "                               'winner': fight_data['2'][fight]}\n",
    "        return returned\n",
    "        \n",
    "    def update_dict(self, entry):\n",
    "        curr1 = self.get_elo(entry['fighter1'])\n",
    "        curr2 = self.get_elo(entry['fighter2'])\n",
    "        p1, p2 = self.prob(curr1, curr2, self.divby)\n",
    "        winner = entry['winner']\n",
    "        Ra = None\n",
    "        Rb = None\n",
    "        \n",
    "        if winner == 1:\n",
    "            Ra = curr1 + self.k_val * (1 - p1) \n",
    "            Rb = curr2 + self.k_val * (0 - p2) \n",
    "        \n",
    "        elif winner == 2: \n",
    "            Ra = curr1 + self.k_val * (0 - p1) \n",
    "            Rb = curr2 + self.k_val * (1 - p2)\n",
    "            \n",
    "        else:\n",
    "            Ra = curr1 + self.k_val * (0.5 - p1) \n",
    "            Rb = curr2 + self.k_val * (0.5 - p2)\n",
    "            \n",
    "        self.elodict[entry['fighter1']].update({entry['date']: curr1, 'curr': Ra})\n",
    "        self.elodict[entry['fighter2']].update({entry['date']: curr2, 'curr': Rb})"
   ]
  },
  {
   "cell_type": "code",
   "execution_count": 13,
   "metadata": {},
   "outputs": [],
   "source": [
    "estimators = {\"k-Nearest Neighbor\": KNeighborsClassifier(), \n",
    "          #\"Support Vector Machine\" : SVC(gamma=0.002), \n",
    "          \"Gaussian Naive Bayes\" : GaussianNB(), \n",
    "          \"Decision Tree\" : DecisionTreeClassifier(),\n",
    "          }"
   ]
  },
  {
   "cell_type": "code",
   "execution_count": 14,
   "metadata": {},
   "outputs": [],
   "source": [
    "class MLAnalysis():\n",
    "    \n",
    "    def __init__(self, build_frame, classifier):\n",
    "        self.build_frame = build_frame\n",
    "        self.X, self.y = build_frame.X, build_frame.y\n",
    "        self.X_train, self.X_test, self.y_train, self.y_test = train_test_split(self.X, self.y, random_state=0)\n",
    "        \n",
    "        self.classifier = classifier\n",
    "        self.classifier.fit(self.X_train, self.y_train)\n",
    "        \n",
    "        self.explainer = shap.KernelExplainer(self.classifier.predict_proba, self.X_train, link=\"logit\")\n",
    "    \n",
    "    def predict(self, fighter1, fighter2):\n",
    "        row = self.build_frame.make_row(fighter1, fighter2)\n",
    "        return [self.classifier.predict(row), \n",
    "                self.explainer.shap_values(pd.DataFrame(row), nsamples=100)]\n",
    "    \n",
    "    def predict_proba(self, fighter1, fighter2):\n",
    "        row = self.build_frame.make_row(fighter1, fighter2)\n",
    "        return self.classifier.predict_proba(row)\n",
    "    \n",
    "    def interpret(self, fighter1, fighter2):\n",
    "        a = interpret(self, fighter1, fighter2)\n",
    "        return a + '\\nProbability: ' + str(max(self.predict_proba(fighter1, fighter2)[0]))"
   ]
  },
  {
   "cell_type": "code",
   "execution_count": 15,
   "metadata": {},
   "outputs": [],
   "source": [
    "def interpret(ml_analysis, fighter1, fighter2):\n",
    "    result, shaps = ml_analysis.predict(fighter1, fighter2)\n",
    "    result = result[0]\n",
    "    result_to_shap = {-1: 0, 1: 1}\n",
    "    winshap = shaps[result_to_shap[result]]\n",
    "    shap_dict = pd.DataFrame(winshap, columns=ml_analysis.build_frame.X.columns).to_dict(orient='list')\n",
    "    s1 = sorted(shap_dict.items(), key=lambda item: item[1][0])\n",
    "    neg_shaps = []\n",
    "    pos_shaps = []\n",
    "    frame_row = ml_analysis.build_frame.make_row(fighter1, fighter2)\n",
    "    for i in range(0,3):\n",
    "        if i < len(s1) and s1[i][1][0] < 0:\n",
    "            \n",
    "            neg_shaps.append(s1[i])\n",
    "    s1.reverse()\n",
    "    for i in range(0,3): \n",
    "        if i < len(s1) and s1[i][1][0] > 0:\n",
    "            pos_shaps.append(s1[i])\n",
    "    return reading(ml_analysis, pos_shaps, neg_shaps, result, frame_row, fighter1, fighter2)"
   ]
  },
  {
   "cell_type": "code",
   "execution_count": 16,
   "metadata": {},
   "outputs": [],
   "source": [
    "def reading(ml_analysis, pos_shaps, neg_shaps, result, frame_row, fighter1, fighter2):\n",
    "    winner = \"\"\n",
    "    if result == 1:\n",
    "        winner = fighter1\n",
    "    else:\n",
    "        winner = fighter2\n",
    "        \n",
    "    returned = winner + \" won.\\n\"\n",
    "    for i in pos_shaps:\n",
    "        name = i[0]\n",
    "        num = i[1][0]\n",
    "        row_val = frame_row[name][0]\n",
    "        wording = \"\"\n",
    "        if (result == -1 and row_val < 0) or (result == 1 and row_val > 0):\n",
    "            wording = \"helped winner\"\n",
    "        else:\n",
    "            wording = \"hurt loser\"\n",
    "        returned += \"%s %s\\n\" % (name, wording)\n",
    "    \n",
    "    return returned\n",
    "                "
   ]
  },
  {
   "cell_type": "code",
   "execution_count": 17,
   "metadata": {},
   "outputs": [],
   "source": [
    "def evaluate_models(build_frame):\n",
    "    for key in estimators:\n",
    "        ml = MLAnalysis(build_frame, estimators[key])\n",
    "        print(key)\n",
    "        print(ml.classifier.score(ml.X_test, ml.y_test))"
   ]
  },
  {
   "cell_type": "code",
   "execution_count": 18,
   "metadata": {},
   "outputs": [],
   "source": [
    "basics = []\n",
    "for a in ['sig str', 'kd', 'td','sub att', 'pass', 'rev','distance','clinch', 'ground', 'head','body','leg']:\n",
    "    basics.append(BasicStriking(a, 1, 0, 'Landed', 'Seconds'))\n",
    "    basics.append(BasicStriking(a, 2, 0, 'Landed', 'Seconds'))"
   ]
  },
  {
   "cell_type": "code",
   "execution_count": 19,
   "metadata": {},
   "outputs": [],
   "source": [
    "elo_stats = ['td', 'distance', 'ground', 'kd', 'total str', 'sig str', 'leg', 'head', 'pass', 'sub att', 'body', 'clinch']\n",
    "basics2 = []\n",
    "for s in elo_stats:\n",
    "    basics2.append(Elo_v1(s, 50, 400, 0.5))"
   ]
  },
  {
   "cell_type": "code",
   "execution_count": 20,
   "metadata": {},
   "outputs": [],
   "source": [
    "build_elo1 = BuildFrame({BasicFilter(): {SubtractValues(): basics2}})\n",
    "build_elo2 = BuildFrame({BasicFilter(): {SubtractValues(): basics2 + [WinLossElo('W/L', 100, 400, 56)]}})"
   ]
  },
  {
   "cell_type": "code",
   "execution_count": 21,
   "metadata": {},
   "outputs": [],
   "source": [
    "build5 = BuildFrame({BasicFilter(): {SubtractValues(): basics}})"
   ]
  },
  {
   "cell_type": "code",
   "execution_count": 22,
   "metadata": {
    "scrolled": true
   },
   "outputs": [
    {
     "name": "stderr",
     "output_type": "stream",
     "text": [
      "Using 5685 background data samples could cause slower run times. Consider using shap.sample(data, K) or shap.kmeans(data, K) to summarize the background as K samples.\n",
      "Using 5685 background data samples could cause slower run times. Consider using shap.sample(data, K) or shap.kmeans(data, K) to summarize the background as K samples.\n"
     ]
    }
   ],
   "source": [
    "ml_elo = MLAnalysis(build_elo1, GaussianNB())\n",
    "ml_elo2 = MLAnalysis(build_elo2, GaussianNB())"
   ]
  },
  {
   "cell_type": "code",
   "execution_count": 23,
   "metadata": {},
   "outputs": [
    {
     "data": {
      "text/plain": [
       "0.5883905013192612"
      ]
     },
     "execution_count": 23,
     "metadata": {},
     "output_type": "execute_result"
    }
   ],
   "source": [
    "ml_elo2.classifier.score(ml_elo2.X_test, ml_elo2.y_test)"
   ]
  },
  {
   "cell_type": "code",
   "execution_count": 24,
   "metadata": {},
   "outputs": [
    {
     "data": {
      "application/vnd.jupyter.widget-view+json": {
       "model_id": "ffcc7a4e8932445cbbc470c86ead7e27",
       "version_major": 2,
       "version_minor": 0
      },
      "text/plain": [
       "HBox(children=(IntProgress(value=0, max=1), HTML(value='')))"
      ]
     },
     "metadata": {},
     "output_type": "display_data"
    },
    {
     "name": "stderr",
     "output_type": "stream",
     "text": [
      "l1_reg=\"auto\" is deprecated and in the next version (v0.29) the behavior will change from a conditional use of AIC to simply \"num_features(10)\"!\n",
      "l1_reg=\"auto\" is deprecated and in the next version (v0.29) the behavior will change from a conditional use of AIC to simply \"num_features(10)\"!\n"
     ]
    },
    {
     "name": "stdout",
     "output_type": "stream",
     "text": [
      "\n",
      "Israel Adesanya won.\n",
      "ELO_sig str helped winner\n",
      "ELO_head helped winner\n",
      "ELO_distance helped winner\n",
      "\n",
      "Probability: 0.9573617807289166\n"
     ]
    }
   ],
   "source": [
    "print(ml_elo.interpret('Israel Adesanya', 'Justin Gaethje'))"
   ]
  },
  {
   "cell_type": "code",
   "execution_count": null,
   "metadata": {},
   "outputs": [],
   "source": []
  }
 ],
 "metadata": {
  "kernelspec": {
   "display_name": "Python 3",
   "language": "python",
   "name": "python3"
  },
  "language_info": {
   "codemirror_mode": {
    "name": "ipython",
    "version": 3
   },
   "file_extension": ".py",
   "mimetype": "text/x-python",
   "name": "python",
   "nbconvert_exporter": "python",
   "pygments_lexer": "ipython3",
   "version": "3.7.3"
  }
 },
 "nbformat": 4,
 "nbformat_minor": 2
}
